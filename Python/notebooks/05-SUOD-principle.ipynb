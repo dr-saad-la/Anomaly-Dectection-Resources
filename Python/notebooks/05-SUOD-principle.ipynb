{
 "cells": [
  {
   "cell_type": "code",
   "execution_count": 15,
   "id": "2a398d1b-511b-4a68-ada2-4214c3127719",
   "metadata": {},
   "outputs": [],
   "source": [
    "# The SUODI Principle\n",
    "\n",
    "# Environment Setup\n",
    "import os\n",
    "import sys\n",
    "from pathlib import Path\n",
    "import shutil \n",
    "\n",
    "import numpy as np \n",
    "import pandas as pd\n",
    "from pyod.models.ecod import ECOD\n",
    "from pyod.utils.data import evaluate_print\n",
    "from pyod.utils.example import visualize\n",
    "\n",
    "import matplotlib.pyplot as plt\n",
    "import seaborn as sns\n",
    "\n",
    "\n",
    "# Configuration \n",
    "DATA_PATH = \"../../datasets/Classical/11_donors.npz\""
   ]
  },
  {
   "cell_type": "code",
   "execution_count": null,
   "id": "99d407d3-d592-4a7d-b574-bfda70768bfc",
   "metadata": {},
   "outputs": [],
   "source": []
  },
  {
   "cell_type": "markdown",
   "id": "1384a70c-3354-4dbc-bd97-1c621caf9331",
   "metadata": {},
   "source": [
    "### Installing SUOD Module\n",
    "\n",
    "You can install the `suod` module directly from a notebook cell using the following script:\n",
    "\n",
    "```python\n",
    "import sys\n",
    "\n",
    "!{sys.executable} -m pip install -U suod\n",
    "```"
   ]
  },
  {
   "cell_type": "code",
   "execution_count": null,
   "id": "4ea08ac1-7117-4992-9910-666f4ca84d81",
   "metadata": {},
   "outputs": [],
   "source": []
  },
  {
   "cell_type": "code",
   "execution_count": null,
   "id": "e263ac07-9720-4a0a-ab43-0c1e928641cc",
   "metadata": {},
   "outputs": [],
   "source": []
  },
  {
   "cell_type": "code",
   "execution_count": 2,
   "id": "90b4afbf-0229-4410-8738-71c226234427",
   "metadata": {},
   "outputs": [
    {
     "data": {
      "text/plain": [
       "NpzFile '../../datasets/Classical/11_donors.npz' with keys: X, y"
      ]
     },
     "execution_count": 2,
     "metadata": {},
     "output_type": "execute_result"
    }
   ],
   "source": [
    "donors = np.load(DATA_PATH, allow_pickle=True)\n",
    "donors"
   ]
  },
  {
   "cell_type": "code",
   "execution_count": 3,
   "id": "275e452b-8eca-4f9b-9dee-eeb1050442d0",
   "metadata": {},
   "outputs": [],
   "source": [
    "X, y = donors['X'], donors['y']"
   ]
  },
  {
   "cell_type": "code",
   "execution_count": 4,
   "id": "6735e898-0e0d-4508-b96e-94ab7df6e760",
   "metadata": {},
   "outputs": [
    {
     "name": "stdout",
     "output_type": "stream",
     "text": [
      "(619326, 10)\n"
     ]
    }
   ],
   "source": [
    "print(X.shape)"
   ]
  },
  {
   "cell_type": "code",
   "execution_count": 5,
   "id": "1a757055-8782-4081-960a-42233340d2e1",
   "metadata": {},
   "outputs": [
    {
     "name": "stdout",
     "output_type": "stream",
     "text": [
      "[[0.       1.       1.       ... 0.       0.       0.003289]\n",
      " [1.       1.       0.       ... 0.5      0.02649  0.029605]\n",
      " [0.       1.       1.       ... 0.       0.       0.003289]\n",
      " ...\n",
      " [0.23748  0.       0.278581 ... 0.529271 0.005148 0.014346]\n",
      " [0.23748  0.       0.278581 ... 0.529271 0.005148 0.014346]\n",
      " [0.       0.       0.       ... 1.       0.       0.003289]]\n"
     ]
    }
   ],
   "source": [
    "print(X)"
   ]
  },
  {
   "cell_type": "code",
   "execution_count": 6,
   "id": "1cd376b2-95ea-4c75-97d3-e42e2ffe614e",
   "metadata": {},
   "outputs": [
    {
     "name": "stdout",
     "output_type": "stream",
     "text": [
      "(619326,)\n",
      "[0 0 0 ... 0 0 0]\n"
     ]
    }
   ],
   "source": [
    "print(y.shape); print(y)"
   ]
  },
  {
   "cell_type": "code",
   "execution_count": 8,
   "id": "8254f722-21ac-4c67-b59f-b3b45d0d5bbf",
   "metadata": {},
   "outputs": [
    {
     "name": "stdout",
     "output_type": "stream",
     "text": [
      "[0 0 0 0 0 0 0 0 0 0 0 0 0 0 0 0 0 0 0 0 0 0 0 0 0 0 0 0 0 0 0 0 0 0 0 0 0\n",
      " 0 0 0 0 0 0 0 0 0 0 0 0 0 0 0 0 0 0 1 0 0 0 0 0 0 0 0 0 0 0 0 0 0 0 0 0 0\n",
      " 0 0 1 0 0 0 0 0 0 0 0 0 0 0 0 0 0 0 1 0 0 0 0 1 0 0 0 0 0 0 0 0 0 0 0 0 0\n",
      " 0 0 0 0 0 0 0 0 0 0 0 0 0 0 0 0 0 0 0 0 0 1 0 0 0 0 0 0 0 0 0 0 0 0 0 0 0\n",
      " 0 0 0 0 0 0 0 1 0 0 0 0 0 0 0 0 0 0 0 0 0 0 0 0 0 0 0 0 0 0 0 0 0 1 1 0 0\n",
      " 0 0 0 0 0 0 0 0 1 0 0 0 0 0 0 0 0 0 0 0 0 0 0 0 0 0 0 0 0 0 0 0 0 0 0 0 0\n",
      " 0 0 0 0 0 0 0 0 0 0 0 0 0 0 0 0 1 0 0 0 0 0 0 0 0 0 0 0 0 0 0 0 0 0 0 0 0\n",
      " 0 0 0 0 0 0 0 0 0 0 0 0 0 0 0 0 0 0 0 0 0 0 1 0 0 1 0 0 0 0 0 0 0 0 0 0 0\n",
      " 0 0 0 0 0 0 0 0 0 0 0 0 0 0 0 0 0 0 0 0 0 0 0 0 0 0 0 0 1 0 1 0 1 0 0 0 0\n",
      " 0 0 0 0 0 1 0 0 0 1 0 0 0 0 0 0 0 0 0 0 0 0 0 0 1 0 0 1 0 0 0 0 0 0 0 0 0\n",
      " 0 0 0 0 0 0 0 0 0 0 0 0 0 1 1 0 0 0 0 0 0 0 0 0 0 0 0 0 0 0 0 0 0 0 0 0 0\n",
      " 0 0 0 0 1 1 0 0 0 0 0 0 0 0 0 0 0 0 0 0 0 0 0 0 0 0 0 0 0 1 0 0 0 0 0 0 0\n",
      " 0 0 0 0 0 0 0 0 0 0 0 0 0 0 0 0 0 0 0 0 0 0 0 0 0 0 0 0 0 0 0 0 0 0 0 0 0\n",
      " 0 0 0 0 0 0 0 0 0 1 0 0 0 0 0 0 0 0 0]\n"
     ]
    }
   ],
   "source": [
    "print(y[:500])"
   ]
  },
  {
   "cell_type": "code",
   "execution_count": 9,
   "id": "376e0bfe-9d01-436c-b697-7e9b9e1be00b",
   "metadata": {},
   "outputs": [
    {
     "data": {
      "text/plain": [
       "36710"
      ]
     },
     "execution_count": 9,
     "metadata": {},
     "output_type": "execute_result"
    }
   ],
   "source": [
    "np.count_nonzero(y)"
   ]
  },
  {
   "cell_type": "code",
   "execution_count": 10,
   "id": "2de9ca65-7100-4348-953f-e884100a7fec",
   "metadata": {},
   "outputs": [
    {
     "data": {
      "text/plain": [
       "0.05927411411760527"
      ]
     },
     "execution_count": 10,
     "metadata": {},
     "output_type": "execute_result"
    }
   ],
   "source": [
    "np.count_nonzero(y) / len(y)"
   ]
  },
  {
   "cell_type": "code",
   "execution_count": 11,
   "id": "543821b5-7b37-4a32-ae9f-c377d66c04ad",
   "metadata": {},
   "outputs": [
    {
     "data": {
      "text/plain": [
       "582616"
      ]
     },
     "execution_count": 11,
     "metadata": {},
     "output_type": "execute_result"
    }
   ],
   "source": [
    "len(y) - np.count_nonzero(y)"
   ]
  },
  {
   "cell_type": "code",
   "execution_count": 17,
   "id": "d29caf5a-5091-4bf2-b0df-37277606c975",
   "metadata": {},
   "outputs": [
    {
     "name": "stdout",
     "output_type": "stream",
     "text": [
      "\n",
      "On Training Data:\n",
      "ECOD ROC:0.8885, precision @ rank n:0.2867\n",
      "\n",
      "On Test Data:\n",
      "ECOD ROC:0.8885, precision @ rank n:0.2867\n"
     ]
    }
   ],
   "source": [
    "if __name__ == \"__main__\":\n",
    "    contamination = 0.1                        # percentage of outliers\n",
    "\n",
    "    # train ECOD detector\n",
    "    clf_name = 'ECOD'\n",
    "    clf = ECOD()\n",
    "\n",
    "    # you could try parallel version as well.\n",
    "    # clf = ECOD(n_jobs=2)\n",
    "    clf.fit(X)\n",
    "\n",
    "    # get the prediction labels and outlier scores of the training data\n",
    "    y_train_pred = clf.labels_                                           # binary labels (0: inliers, 1: outliers)\n",
    "    y_train_scores = clf.decision_scores_                                # raw outlier scores\n",
    "\n",
    "    # get the prediction on the test data\n",
    "    y_test_pred = clf.predict(X)  # outlier labels (0 or 1)\n",
    "    y_test_scores = clf.decision_function(X)  # outlier scores\n",
    "\n",
    "    # evaluate and print the results\n",
    "    print(\"\\nOn Training Data:\")\n",
    "    evaluate_print(clf_name, y, y_train_scores)\n",
    "    print(\"\\nOn Test Data:\")\n",
    "    evaluate_print(clf_name, y, y_test_scores)"
   ]
  },
  {
   "cell_type": "code",
   "execution_count": 33,
   "id": "05e5b93f-cf6e-4ce5-a7a7-24659986c43c",
   "metadata": {},
   "outputs": [
    {
     "name": "stdout",
     "output_type": "stream",
     "text": [
      "RandomForestRegressor()\n",
      "\n"
     ]
    },
    {
     "name": "stderr",
     "output_type": "stream",
     "text": [
      "[Parallel(n_jobs=4)]: Using backend LokyBackend with 4 concurrent workers.\n",
      "[Parallel(n_jobs=4)]: Done   2 out of   4 | elapsed:    0.0s remaining:    0.0s\n",
      "[Parallel(n_jobs=4)]: Done   4 out of   4 | elapsed:    0.3s finished\n",
      "[Parallel(n_jobs=4)]: Using backend LokyBackend with 4 concurrent workers.\n",
      "[Parallel(n_jobs=4)]: Done   2 out of   4 | elapsed:    0.0s remaining:    0.0s\n",
      "[Parallel(n_jobs=4)]: Done   4 out of   4 | elapsed:    0.1s finished\n"
     ]
    },
    {
     "name": "stdout",
     "output_type": "stream",
     "text": [
      "\n"
     ]
    },
    {
     "name": "stderr",
     "output_type": "stream",
     "text": [
      "[Parallel(n_jobs=4)]: Using backend LokyBackend with 4 concurrent workers.\n",
      "[Parallel(n_jobs=4)]: Done   2 out of   4 | elapsed:    0.1s remaining:    0.1s\n",
      "[Parallel(n_jobs=4)]: Done   4 out of   4 | elapsed:    0.4s finished\n"
     ]
    },
    {
     "name": "stdout",
     "output_type": "stream",
     "text": [
      "\n",
      "\n",
      "On Training Data:\n",
      "SUOD ROC:1.0, precision @ rank n:1.0\n",
      "\n",
      "On Test Data:\n",
      "SUOD ROC:1.0, precision @ rank n:1.0\n"
     ]
    },
    {
     "name": "stderr",
     "output_type": "stream",
     "text": [
      "[Parallel(n_jobs=4)]: Using backend LokyBackend with 4 concurrent workers.\n",
      "[Parallel(n_jobs=4)]: Done   2 out of   4 | elapsed:    0.0s remaining:    0.0s\n",
      "[Parallel(n_jobs=4)]: Done   4 out of   4 | elapsed:    0.0s finished\n"
     ]
    },
    {
     "data": {
      "image/png": "[encoded data removed]",
      "text/plain": [
       "<Figure size 1200x1000 with 4 Axes>"
      ]
     },
     "metadata": {},
     "output_type": "display_data"
    }
   ],
   "source": [
    "# -*- coding: utf-8 -*-\n",
    "\"\"\"Example of using SUOD for accelerating outlier detection\n",
    "\"\"\"\n",
    "\n",
    "\n",
    "from __future__ import division\n",
    "from __future__ import print_function\n",
    "\n",
    "import os\n",
    "import sys\n",
    "\n",
    "# temporary solution for relative imports in case pyod is not installed\n",
    "# if pyod is installed, no need to use the following line\n",
    "# sys.path.append(\n",
    "#     os.path.abspath(os.path.join(os.path.dirname(\"__file__\"), '..')))\n",
    "\n",
    "from pyod.models.suod import SUOD\n",
    "from pyod.models.lof import LOF\n",
    "from pyod.models.iforest import IForest\n",
    "from pyod.models.copod import COPOD\n",
    "from pyod.utils.utility import standardizer\n",
    "from pyod.utils.data import generate_data\n",
    "from pyod.utils.data import evaluate_print\n",
    "from pyod.utils.example import visualize\n",
    "\n",
    "if __name__ == \"__main__\":\n",
    "    contamination = 0.1                   # percentage of outliers\n",
    "    n_train = 200                         # number of training points\n",
    "    n_test = 100                          # number of testing points\n",
    "\n",
    "    # Generate sample data\n",
    "    X_train, X_test, y_train, y_test = \\\n",
    "        generate_data(n_train=n_train,\n",
    "                      n_test=n_test,\n",
    "                      n_features=2,\n",
    "                      contamination=contamination,\n",
    "                      random_state=42)\n",
    "\n",
    "    # train SUOD\n",
    "    clf_name = 'SUOD'\n",
    "\n",
    "    # initialized a group of outlier detectors for acceleration\n",
    "    detector_list = [\n",
    "                     LOF(n_neighbors=15),\n",
    "                     LOF(n_neighbors=20),\n",
    "                     LOF(n_neighbors=25),\n",
    "                     LOF(n_neighbors=35),\n",
    "                     COPOD(),\n",
    "                     IForest(n_estimators=100),\n",
    "                     IForest(n_estimators=200)\n",
    "                    ]\n",
    "\n",
    "    # decide the number of parallel process, and the combination method\n",
    "    clf = SUOD(base_estimators = detector_list,\n",
    "               n_jobs=4,\n",
    "               combination='average',\n",
    "               verbose=False)\n",
    "\n",
    "    # or to use the default detectors\n",
    "    # clf = SUOD(n_jobs=2, combination='average',\n",
    "    #            verbose=False)\n",
    "    clf.fit(X_train)\n",
    "\n",
    "    # get the prediction labels and outlier scores of the training data\n",
    "    y_train_pred = clf.labels_                  # binary labels (0: inliers, 1: outliers)\n",
    "    y_train_scores = clf.decision_scores_       # raw outlier scores\n",
    "\n",
    "    # get the prediction on the test data\n",
    "    y_test_pred = clf.predict(X_test)                 # outlier labels (0 or 1)\n",
    "    y_test_scores = clf.decision_function(X_test)     # outlier scores\n",
    "\n",
    "    # evaluate and print the results\n",
    "    print(\"\\nOn Training Data:\")\n",
    "    evaluate_print(clf_name, y_train, y_train_scores)\n",
    "    print(\"\\nOn Test Data:\")\n",
    "    evaluate_print(clf_name, y_test, y_test_scores)\n",
    "\n",
    "    # visualize the results\n",
    "    visualize(clf_name, X_train, y_train, X_test, y_test, y_train_pred,\n",
    "              y_test_pred, show_figure=True, save_figure=False)"
   ]
  },
  {
   "cell_type": "code",
   "execution_count": 28,
   "id": "568faaea-59fe-4245-99ec-59f362006b75",
   "metadata": {},
   "outputs": [],
   "source": [
    "# y_train_scores"
   ]
  },
  {
   "cell_type": "code",
   "execution_count": 34,
   "id": "b9bccc88-349a-42e0-82f3-cb3d4286ce73",
   "metadata": {},
   "outputs": [],
   "source": [
    "# evaluate_print"
   ]
  },
  {
   "cell_type": "code",
   "execution_count": null,
   "id": "b9cec899-d4b7-4d5e-81e8-e880fb405093",
   "metadata": {},
   "outputs": [],
   "source": []
  }
 ],
 "metadata": {
  "kernelspec": {
   "display_name": "Anomaly-Detection",
   "language": "python",
   "name": "anom-detect-env"
  },
  "language_info": {
   "codemirror_mode": {
    "name": "ipython",
    "version": 3
   },
   "file_extension": ".py",
   "mimetype": "text/x-python",
   "name": "python",
   "nbconvert_exporter": "python",
   "pygments_lexer": "ipython3",
   "version": "3.9.19"
  }
 },
 "nbformat": 4,
 "nbformat_minor": 5
}
