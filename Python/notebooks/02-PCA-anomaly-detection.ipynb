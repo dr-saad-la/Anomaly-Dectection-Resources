{
 "cells": [
  {
   "cell_type": "markdown",
   "id": "5ee19beb-1c17-4362-a9cd-8c827521e41f",
   "metadata": {},
   "source": [
    "# Anomaly Detection Based on PCA"
   ]
  },
  {
   "cell_type": "code",
   "execution_count": 5,
   "id": "5958cb7f-f252-4547-8550-78bda2eb7dfe",
   "metadata": {},
   "outputs": [],
   "source": [
    "# Env Setup \n",
    "import os\n",
    "import sys\n",
    "import shutil \n",
    "import pandas as pd\n",
    "# import polars as pl\n",
    "import numpy as np\n",
    "import matplotlib.pyplot as plt\n",
    "# import seaborn as sns\n",
    "from adbench import datasets"
   ]
  },
  {
   "cell_type": "code",
   "execution_count": null,
   "id": "8bf4f080-67d0-400f-bcbd-73f2fc7e4c5c",
   "metadata": {},
   "outputs": [],
   "source": []
  }
 ],
 "metadata": {
  "kernelspec": {
   "display_name": "Anomaly-Detection",
   "language": "python",
   "name": "anom-detect-env"
  },
  "language_info": {
   "codemirror_mode": {
    "name": "ipython",
    "version": 3
   },
   "file_extension": ".py",
   "mimetype": "text/x-python",
   "name": "python",
   "nbconvert_exporter": "python",
   "pygments_lexer": "ipython3",
   "version": "3.9.19"
  }
 },
 "nbformat": 4,
 "nbformat_minor": 5
}
