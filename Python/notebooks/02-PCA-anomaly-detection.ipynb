{
 "cells": [
  {
   "cell_type": "markdown",
   "id": "5ee19beb-1c17-4362-a9cd-8c827521e41f",
   "metadata": {},
   "source": [
    "# Anomaly Detection Based on PCA"
   ]
  },
  {
   "cell_type": "code",
   "execution_count": 5,
   "id": "5958cb7f-f252-4547-8550-78bda2eb7dfe",
   "metadata": {},
   "outputs": [],
   "source": [
    "# Env Setup \n",
    "import os\n",
    "import sys\n",
    "import shutil \n",
    "import pandas as pd\n",
    "# import polars as pl\n",
    "import numpy as np\n",
    "import matplotlib.pyplot as plt\n",
    "# import seaborn as sns\n",
    "from adbench import datasets"
   ]
  },
  {
   "cell_type": "code",
   "execution_count": 2,
   "id": "8bf4f080-67d0-400f-bcbd-73f2fc7e4c5c",
   "metadata": {},
   "outputs": [
    {
     "name": "stdout",
     "output_type": "stream",
     "text": [
      "I am siham Sahraoui !!!!! 😁\n"
     ]
    }
   ],
   "source": [
    "# This is a note\n",
    "print(\"I am siham Sahraoui !!!!! 😁\")"
   ]
  },
  {
   "cell_type": "code",
   "execution_count": 4,
   "id": "680d39e7-1312-47bf-8405-bc6a63300346",
   "metadata": {},
   "outputs": [
    {
     "name": "stdout",
     "output_type": "stream",
     "text": [
      "I am siham Sahraoui !!!!! 😁\n",
      "I am siham Sahraoui !!!!! 😁\n",
      "I am siham Sahraoui !!!!! 😁\n",
      "I am siham Sahraoui !!!!! 😁\n",
      "I am siham Sahraoui !!!!! 😁\n",
      "I am siham Sahraoui !!!!! 😁\n",
      "I am siham Sahraoui !!!!! 😁\n",
      "I am siham Sahraoui !!!!! 😁\n",
      "I am siham Sahraoui !!!!! 😁\n",
      "I am siham Sahraoui !!!!! 😁\n",
      "I am siham Sahraoui !!!!! 😁\n",
      "I am siham Sahraoui !!!!! 😁\n",
      "I am siham Sahraoui !!!!! 😁\n",
      "I am siham Sahraoui !!!!! 😁\n",
      "I am siham Sahraoui !!!!! 😁\n",
      "I am siham Sahraoui !!!!! 😁\n",
      "I am siham Sahraoui !!!!! 😁\n",
      "I am siham Sahraoui !!!!! 😁\n",
      "I am siham Sahraoui !!!!! 😁\n",
      "I am siham Sahraoui !!!!! 😁\n"
     ]
    }
   ],
   "source": [
    "for i in range(20):\n",
    "    print(\"I am siham Sahraoui !!!!! 😁\")"
   ]
  },
  {
   "cell_type": "code",
   "execution_count": 11,
   "id": "bcc29bd3-25c3-42eb-b1ef-16e0dde3650c",
   "metadata": {},
   "outputs": [],
   "source": [
    "def square(x):\n",
    "    print(\"You are squaring the provided number\", x)\n",
    "    return x*x"
   ]
  },
  {
   "cell_type": "code",
   "execution_count": 12,
   "id": "7e3a2b72-4994-4e3c-b5d3-169aa8d4a164",
   "metadata": {},
   "outputs": [
    {
     "data": {
      "text/plain": [
       "9"
      ]
     },
     "execution_count": 12,
     "metadata": {},
     "output_type": "execute_result"
    }
   ],
   "source": [
    "3*3"
   ]
  },
  {
   "cell_type": "code",
   "execution_count": 14,
   "id": "cd1c2d00-a0d1-4283-bb98-934fbc1e05ff",
   "metadata": {},
   "outputs": [
    {
     "name": "stdout",
     "output_type": "stream",
     "text": [
      "You are squaring the provided number 23\n"
     ]
    },
    {
     "data": {
      "text/plain": [
       "529"
      ]
     },
     "execution_count": 14,
     "metadata": {},
     "output_type": "execute_result"
    }
   ],
   "source": [
    "square(23)"
   ]
  },
  {
   "cell_type": "code",
   "execution_count": 15,
   "id": "5a1232b6-b17d-49e3-ae57-0333053a1dc0",
   "metadata": {},
   "outputs": [],
   "source": [
    "def repeat_word_ntimes(word, n):\n",
    "    print(word * n)"
   ]
  },
  {
   "cell_type": "code",
   "execution_count": 18,
   "id": "bfac1047-0734-417d-a4a8-654f5220f7f9",
   "metadata": {},
   "outputs": [
    {
     "name": "stdout",
     "output_type": "stream",
     "text": [
      "Siham Siham Siham Siham Siham Siham Siham Siham Siham Siham Siham Siham Siham Siham Siham Siham Siham Siham Siham Siham Siham Siham Siham Siham Siham Siham Siham Siham Siham Siham Siham Siham Siham Siham Siham Siham Siham Siham Siham Siham Siham Siham Siham Siham Siham Siham Siham Siham Siham Siham Siham Siham Siham Siham Siham Siham Siham Siham Siham Siham Siham Siham Siham Siham Siham Siham Siham Siham Siham Siham Siham Siham Siham Siham Siham Siham Siham Siham Siham Siham Siham Siham Siham Siham Siham Siham Siham Siham Siham Siham Siham Siham Siham Siham Siham Siham Siham Siham Siham Siham Siham Siham Siham Siham Siham Siham Siham Siham Siham Siham Siham Siham Siham Siham Siham Siham Siham Siham Siham Siham Siham Siham Siham Siham Siham Siham Siham Siham Siham Siham Siham Siham Siham Siham Siham Siham Siham Siham Siham Siham Siham Siham Siham Siham Siham Siham Siham Siham Siham Siham Siham Siham Siham Siham Siham Siham Siham Siham Siham Siham Siham Siham Siham Siham Siham Siham Siham Siham Siham Siham Siham Siham Siham Siham Siham Siham Siham Siham Siham Siham Siham Siham Siham Siham Siham Siham Siham Siham Siham Siham Siham Siham Siham Siham Siham Siham Siham Siham Siham Siham Siham Siham Siham Siham Siham Siham Siham Siham Siham Siham Siham Siham Siham Siham Siham Siham Siham Siham Siham Siham Siham Siham Siham Siham Siham Siham Siham Siham Siham Siham Siham Siham Siham Siham Siham Siham Siham Siham Siham Siham Siham Siham Siham Siham Siham Siham Siham Siham Siham Siham Siham Siham Siham Siham Siham Siham Siham Siham Siham Siham Siham Siham Siham Siham Siham Siham Siham Siham Siham Siham Siham Siham Siham Siham Siham Siham Siham Siham Siham Siham Siham Siham Siham Siham Siham Siham Siham Siham Siham Siham Siham Siham Siham Siham Siham Siham Siham Siham Siham Siham Siham Siham Siham Siham Siham Siham Siham Siham Siham Siham Siham Siham Siham Siham Siham Siham Siham Siham Siham Siham Siham Siham Siham Siham Siham Siham Siham Siham Siham Siham Siham Siham Siham Siham Siham Siham Siham Siham Siham Siham Siham Siham Siham Siham Siham Siham Siham Siham Siham Siham Siham Siham Siham Siham Siham Siham Siham Siham Siham Siham Siham Siham Siham Siham Siham Siham Siham Siham Siham Siham Siham Siham Siham Siham Siham Siham Siham Siham Siham Siham Siham Siham Siham Siham Siham Siham Siham Siham Siham Siham Siham Siham Siham Siham Siham Siham Siham Siham Siham Siham Siham Siham Siham Siham Siham Siham Siham Siham Siham Siham Siham Siham Siham Siham Siham Siham Siham Siham Siham Siham Siham Siham Siham Siham Siham Siham Siham Siham Siham Siham Siham Siham Siham Siham Siham Siham Siham Siham Siham Siham Siham Siham Siham Siham Siham Siham Siham Siham Siham Siham Siham Siham Siham Siham Siham Siham Siham Siham Siham Siham Siham Siham Siham Siham Siham Siham Siham Siham Siham Siham Siham Siham Siham Siham Siham Siham Siham Siham Siham Siham Siham Siham Siham Siham Siham Siham Siham Siham Siham Siham Siham Siham Siham Siham Siham Siham Siham Siham Siham Siham Siham Siham Siham Siham Siham Siham Siham Siham Siham Siham Siham Siham Siham Siham Siham Siham Siham Siham Siham Siham Siham Siham Siham Siham Siham Siham Siham Siham Siham Siham Siham Siham Siham Siham Siham Siham Siham Siham Siham Siham Siham Siham Siham Siham Siham Siham Siham Siham Siham Siham Siham Siham Siham Siham Siham Siham Siham Siham Siham Siham Siham Siham Siham Siham Siham Siham Siham Siham Siham Siham Siham Siham Siham Siham Siham Siham Siham Siham Siham Siham Siham Siham Siham Siham Siham Siham Siham Siham Siham Siham Siham Siham Siham Siham Siham Siham Siham Siham Siham Siham Siham Siham Siham Siham Siham Siham Siham Siham Siham Siham Siham Siham Siham Siham Siham Siham Siham Siham Siham Siham Siham Siham Siham Siham Siham Siham Siham Siham Siham Siham Siham Siham Siham Siham Siham Siham Siham Siham Siham Siham Siham Siham Siham Siham Siham Siham Siham Siham Siham Siham Siham Siham Siham Siham Siham Siham Siham Siham Siham Siham Siham Siham Siham Siham Siham Siham Siham Siham Siham Siham Siham Siham Siham Siham Siham Siham Siham Siham Siham Siham Siham Siham Siham Siham Siham Siham Siham Siham Siham Siham Siham Siham Siham Siham Siham Siham Siham Siham Siham Siham Siham Siham Siham Siham Siham Siham Siham Siham Siham Siham Siham Siham Siham Siham Siham Siham Siham Siham Siham Siham Siham Siham Siham Siham Siham Siham Siham Siham Siham Siham Siham Siham Siham Siham Siham Siham Siham Siham Siham Siham Siham Siham Siham Siham Siham Siham Siham Siham Siham Siham Siham Siham Siham Siham Siham Siham Siham Siham Siham Siham Siham Siham Siham Siham Siham Siham Siham Siham Siham Siham Siham Siham Siham Siham Siham Siham Siham Siham Siham Siham Siham Siham Siham Siham Siham Siham Siham Siham Siham Siham Siham Siham Siham Siham Siham Siham Siham Siham Siham Siham Siham Siham Siham Siham Siham Siham Siham Siham Siham Siham Siham Siham Siham Siham Siham Siham Siham Siham Siham Siham Siham Siham Siham Siham Siham Siham Siham Siham Siham Siham Siham Siham Siham Siham Siham Siham Siham Siham Siham Siham Siham Siham Siham Siham Siham Siham Siham Siham Siham Siham Siham Siham Siham Siham Siham Siham Siham Siham Siham Siham Siham Siham Siham Siham Siham Siham Siham Siham Siham Siham Siham Siham Siham Siham Siham Siham Siham Siham Siham Siham Siham Siham Siham Siham Siham Siham Siham Siham Siham Siham Siham Siham Siham Siham Siham Siham Siham Siham Siham Siham Siham Siham Siham Siham Siham Siham Siham Siham Siham Siham Siham Siham Siham Siham Siham Siham Siham Siham Siham Siham Siham Siham Siham Siham Siham Siham Siham Siham Siham Siham Siham Siham Siham Siham Siham Siham Siham Siham Siham Siham Siham Siham Siham Siham Siham Siham Siham Siham Siham Siham Siham Siham Siham Siham Siham Siham Siham Siham Siham Siham Siham Siham Siham Siham Siham Siham Siham Siham Siham Siham Siham Siham Siham Siham Siham Siham Siham Siham Siham Siham Siham Siham Siham Siham Siham Siham Siham Siham Siham Siham Siham Siham Siham Siham Siham Siham Siham Siham Siham Siham \n"
     ]
    }
   ],
   "source": [
    "repeat_word_ntimes(\"Siham \", 1000)"
   ]
  },
  {
   "cell_type": "code",
   "execution_count": null,
   "id": "030b5251-6e09-4518-a294-6042d645f042",
   "metadata": {},
   "outputs": [],
   "source": []
  }
 ],
 "metadata": {
  "kernelspec": {
   "display_name": "Anomaly-Detection",
   "language": "python",
   "name": "anom-detect-env"
  },
  "language_info": {
   "codemirror_mode": {
    "name": "ipython",
    "version": 3
   },
   "file_extension": ".py",
   "mimetype": "text/x-python",
   "name": "python",
   "nbconvert_exporter": "python",
   "pygments_lexer": "ipython3",
   "version": "3.9.19"
  }
 },
 "nbformat": 4,
 "nbformat_minor": 5
}
